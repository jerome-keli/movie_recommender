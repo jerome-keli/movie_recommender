{
  "nbformat": 4,
  "nbformat_minor": 0,
  "metadata": {
    "colab": {
      "provenance": [],
      "authorship_tag": "ABX9TyNsO3hrJ13j8vZKOghFc/m4",
      "include_colab_link": true
    },
    "kernelspec": {
      "name": "python3",
      "display_name": "Python 3"
    },
    "language_info": {
      "name": "python"
    }
  },
  "cells": [
    {
      "cell_type": "markdown",
      "metadata": {
        "id": "view-in-github",
        "colab_type": "text"
      },
      "source": [
        "<a href=\"https://colab.research.google.com/github/jerome-keli/movie_recommender/blob/main/Movie_Recommender.ipynb\" target=\"_parent\"><img src=\"https://colab.research.google.com/assets/colab-badge.svg\" alt=\"Open In Colab\"/></a>"
      ]
    },
    {
      "cell_type": "code",
      "source": [
        "#Installing scikit-surprise\n",
        "!pip install scikit-surprise"
      ],
      "metadata": {
        "colab": {
          "base_uri": "https://localhost:8080/"
        },
        "id": "vgS2EonBQs63",
        "outputId": "85273f6a-353a-40f7-a034-cc268af4a309"
      },
      "execution_count": null,
      "outputs": [
        {
          "output_type": "stream",
          "name": "stdout",
          "text": [
            "Requirement already satisfied: scikit-surprise in /usr/local/lib/python3.10/dist-packages (1.1.4)\n",
            "Requirement already satisfied: joblib>=1.2.0 in /usr/local/lib/python3.10/dist-packages (from scikit-surprise) (1.4.2)\n",
            "Requirement already satisfied: numpy>=1.19.5 in /usr/local/lib/python3.10/dist-packages (from scikit-surprise) (1.26.4)\n",
            "Requirement already satisfied: scipy>=1.6.0 in /usr/local/lib/python3.10/dist-packages (from scikit-surprise) (1.13.1)\n"
          ]
        }
      ]
    },
    {
      "cell_type": "code",
      "source": [
        "#Import necessary libraries\n",
        "import pandas as pd\n",
        "import numpy as np\n",
        "from surprise import Dataset, Reader, SVD\n",
        "from surprise.model_selection import train_test_split\n",
        "from surprise import accuracy\n",
        "import random"
      ],
      "metadata": {
        "id": "gRLlr0WUR6z1"
      },
      "execution_count": null,
      "outputs": []
    },
    {
      "cell_type": "code",
      "source": [
        "#File paths\n",
        "DATA_PATH = \"/content/u.data\"\n",
        "MOVIE_PATH = \"/content/u.item\"\n",
        "USER_PATH = \"/content/u.user\""
      ],
      "metadata": {
        "id": "5A9S_4N5R_bI"
      },
      "execution_count": null,
      "outputs": []
    },
    {
      "cell_type": "code",
      "source": [
        "#Load user-item interaction data\n",
        "ratings = pd.read_csv(\n",
        "    DATA_PATH,\n",
        "    sep='\\t',\n",
        "    names=[\"user_id\", \"item_id\", \"rating\", \"timestamp\"],\n",
        "    header=None\n",
        ")\n",
        "\n",
        "#Load movie metadata\n",
        "movies = pd.read_csv(\n",
        "    MOVIE_PATH,\n",
        "    sep='|',\n",
        "    names=[\"movie_id\", \"title\", \"release_date\", \"video_release_date\", \"IMDb_URL\"] + [f\"genre_{i}\" for i in range(19)],\n",
        "    encoding='latin-1',\n",
        "    usecols=[0, 1, 2],\n",
        "    header=None\n",
        ")\n",
        "\n",
        "#Grouping ages into groups\n",
        "age_bins = [0, 18, 25, 35, 50, 100]\n",
        "age_labels = ['Under 18', '18-24', '25-34', '35-49', '50+']"
      ],
      "metadata": {
        "id": "uFkaASJQR_YZ"
      },
      "execution_count": null,
      "outputs": []
    },
    {
      "cell_type": "code",
      "source": [
        "#Train SVD model\n",
        "reader = Reader(rating_scale=(1, 5))\n",
        "data = Dataset.load_from_df(ratings[['user_id', 'item_id', 'rating']], reader)\n",
        "trainset, testset = train_test_split(data, test_size=0.2, random_state=42)\n",
        "\n",
        "algo = SVD(random_state=42)\n",
        "algo.fit(trainset)\n",
        "predictions = algo.test(testset)\n",
        "rmse = accuracy.rmse(predictions, verbose=True)\n",
        "print(f\"Test RMSE: {rmse:.4f}\")"
      ],
      "metadata": {
        "colab": {
          "base_uri": "https://localhost:8080/"
        },
        "id": "aqYhubUtR_Vm",
        "outputId": "5e2f5da3-e71c-423b-a6ad-1e2a805bb9ce"
      },
      "execution_count": null,
      "outputs": [
        {
          "output_type": "stream",
          "name": "stdout",
          "text": [
            "RMSE: 0.9352\n",
            "Test RMSE: 0.9352\n"
          ]
        }
      ]
    },
    {
      "cell_type": "code",
      "source": [
        "#Recommend movies by age group\n",
        "def recommend_movies_by_age(age, n=10):\n",
        "    #Determine age group\n",
        "    user_age_group = pd.cut([age], bins=age_bins, labels=age_labels)[0]\n",
        "    print(f\"Based on your age ({age}), you belong to the '{user_age_group}' age group.\")\n",
        "\n",
        "    #Get all users in the same age group\n",
        "    users = pd.read_csv(\n",
        "        USER_PATH,\n",
        "        sep='|',\n",
        "        names=[\"user_id\", \"age\", \"gender\", \"occupation\", \"zip_code\"],\n",
        "        header=None,\n",
        "        encoding='latin-1'\n",
        "    )\n",
        "    users['age_group'] = pd.cut(users['age'], bins=age_bins, labels=age_labels)\n",
        "    similar_users = users[users['age_group'] == user_age_group]['user_id'].values\n",
        "\n",
        "    #Aggregate ratings for movies rated by similar users\n",
        "    similar_user_ratings = ratings[ratings['user_id'].isin(similar_users)]\n",
        "    avg_ratings = similar_user_ratings.groupby('item_id')['rating'].mean()\n",
        "\n",
        "    #Select a larger pool of top-rated items\n",
        "    top_items_pool = avg_ratings.nlargest(n * 3)  # Get 3 times the number of desired recommendations\n",
        "\n",
        "    #Random sampling for diversity\n",
        "    sampled_items = top_items_pool.sample(n=min(len(top_items_pool), n), random_state=random.randint(1, 100)).index\n",
        "\n",
        "    #Merge with movie titles\n",
        "    top_movies = movies[movies['movie_id'].isin(sampled_items)]\n",
        "    return top_movies[['movie_id', 'title']]\n"
      ],
      "metadata": {
        "id": "-nRph1aCR_RI"
      },
      "execution_count": null,
      "outputs": []
    },
    {
      "cell_type": "code",
      "source": [
        "#Predict Ratings for User Preferences\n",
        "def predict_user_preferences(preferences, n=10):\n",
        "    #Generate predictions for all items not rated by the user\n",
        "    all_movie_ids = set(ratings['item_id'].unique())\n",
        "    rated_movie_ids = set(preferences.keys())\n",
        "    unrated_movie_ids = all_movie_ids - rated_movie_ids\n",
        "\n",
        "    predictions = []\n",
        "    for movie_id in unrated_movie_ids:\n",
        "        est_rating = algo.predict(uid=1, iid=movie_id, r_ui=None).est  # Use a pseudo-user ID\n",
        "        predictions.append((movie_id, est_rating))\n",
        "\n",
        "    #Sort by estimated rating and return top N\n",
        "    predictions.sort(key=lambda x: x[1], reverse=True)\n",
        "    top_predictions = predictions[:n]\n",
        "    top_movies = movies[movies['movie_id'].isin([p[0] for p in top_predictions])]\n",
        "    top_movies['predicted_rating'] = [p[1] for p in top_predictions]\n",
        "    return top_movies[['title', 'predicted_rating']]"
      ],
      "metadata": {
        "id": "8dMmgM-6R_Od"
      },
      "execution_count": null,
      "outputs": []
    },
    {
      "cell_type": "code",
      "source": [
        "#Recommendation System\n",
        "print(\"Welcome to the Enhanced Movie Recommender System!\")\n",
        "try:\n",
        "    #Ask for user's age\n",
        "    user_age = int(input(\"Enter your age: \"))\n",
        "    if user_age < 0 or user_age > 120:\n",
        "        raise ValueError(\"Age must be between 0 and 120.\")\n",
        "\n",
        "    #Get recommendations based on age group\n",
        "    age_group_recommendations = recommend_movies_by_age(user_age, n=5)\n",
        "    print(\"\\nAge-Group-Based Recommendations:\")\n",
        "    for i, row in age_group_recommendations.iterrows():\n",
        "        print(f\"{i + 1}. {row['title']}\")\n",
        "\n",
        "    #Ask for user's preferences\n",
        "    print(\"\\nLet's tailor your recommendations further. Please rate the following movies (1-5):\")\n",
        "    preferences = {}\n",
        "    for i, row in age_group_recommendations.iterrows():\n",
        "        try:\n",
        "            rating = float(input(f\"How would you rate '{row['title']}'? (1-5): \"))\n",
        "            if rating < 1 or rating > 5:\n",
        "                raise ValueError(\"Rating must be between 1 and 5.\")\n",
        "            preferences[row['movie_id']] = rating\n",
        "        except ValueError as e:\n",
        "            print(f\"Invalid rating: {e}\")\n",
        "            continue\n",
        "\n",
        "    #Get recommendations based on preferences\n",
        "    preference_recommendations = predict_user_preferences(preferences, n=10)\n",
        "    print(\"\\nPersonalized Recommendations Based on Your Preferences:\")\n",
        "    for i, row in preference_recommendations.iterrows():\n",
        "        print(f\"{i + 1}. {row['title']} (Predicted Rating: {row['predicted_rating']:.2f})\")\n",
        "\n",
        "except ValueError as e:\n",
        "    print(f\"Invalid input: {e}\")"
      ],
      "metadata": {
        "colab": {
          "base_uri": "https://localhost:8080/"
        },
        "id": "_FvYdW_LR_Lg",
        "outputId": "61b0e062-99cd-429d-8224-c4fbf922a732"
      },
      "execution_count": null,
      "outputs": [
        {
          "output_type": "stream",
          "name": "stdout",
          "text": [
            "Welcome to the Enhanced Movie Recommender System!\n",
            "Enter your age: 36\n",
            "Based on your age (36), you belong to the '35-49' age group.\n",
            "\n",
            "Age-Group-Based Recommendations:\n",
            "976. Solo (1996)\n",
            "1229. Poison Ivy II (1995)\n",
            "1347. Ballad of Narayama, The (Narayama Bushiko) (1958)\n",
            "1367. Faust (1994)\n",
            "1389. Mondo (1996)\n",
            "\n",
            "Let's tailor your recommendations further. Please rate the following movies (1-5):\n",
            "How would you rate 'Solo (1996)'? (1-5): 1\n",
            "How would you rate 'Poison Ivy II (1995)'? (1-5): 4\n",
            "How would you rate 'Ballad of Narayama, The (Narayama Bushiko) (1958)'? (1-5): 3\n",
            "How would you rate 'Faust (1994)'? (1-5): 3\n",
            "How would you rate 'Mondo (1996)'? (1-5): 5\n",
            "\n",
            "Personalized Recommendations Based on Your Preferences:\n",
            "48. Hoop Dreams (1994) (Predicted Rating: 5.00)\n",
            "50. Star Wars (1977) (Predicted Rating: 4.97)\n",
            "114. Wallace & Gromit: The Best of Aardman Animation (1996) (Predicted Rating: 4.94)\n",
            "134. Citizen Kane (1941) (Predicted Rating: 4.94)\n",
            "169. Wrong Trousers, The (1993) (Predicted Rating: 4.93)\n",
            "172. Empire Strikes Back, The (1980) (Predicted Rating: 4.92)\n",
            "178. 12 Angry Men (1957) (Predicted Rating: 4.75)\n",
            "357. One Flew Over the Cuckoo's Nest (1975) (Predicted Rating: 4.73)\n",
            "474. Dr. Strangelove or: How I Learned to Stop Worrying and Love the Bomb (1963) (Predicted Rating: 4.72)\n",
            "603. Rear Window (1954) (Predicted Rating: 4.71)\n"
          ]
        },
        {
          "output_type": "stream",
          "name": "stderr",
          "text": [
            "<ipython-input-13-5472e616c21e>:17: SettingWithCopyWarning: \n",
            "A value is trying to be set on a copy of a slice from a DataFrame.\n",
            "Try using .loc[row_indexer,col_indexer] = value instead\n",
            "\n",
            "See the caveats in the documentation: https://pandas.pydata.org/pandas-docs/stable/user_guide/indexing.html#returning-a-view-versus-a-copy\n",
            "  top_movies['predicted_rating'] = [p[1] for p in top_predictions]\n"
          ]
        }
      ]
    },
    {
      "cell_type": "code",
      "source": [],
      "metadata": {
        "id": "8MvHF59rZYQE"
      },
      "execution_count": null,
      "outputs": []
    }
  ]
}